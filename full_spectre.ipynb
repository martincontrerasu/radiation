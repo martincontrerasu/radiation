{
 "cells": [
  {
   "cell_type": "code",
   "execution_count": 8,
   "metadata": {},
   "outputs": [],
   "source": [
    "import pandas as pd\n",
    "import matplotlib.pyplot as plt\n",
    "import re\n",
    "import psycopg2 as psy\n",
    "import numpy as np\n",
    "import tqdm\n",
    "from datetime import date\n",
    "import csv, pyodbc"
   ]
  },
  {
   "cell_type": "raw",
   "metadata": {},
   "source": [
    "# set up some constants\n",
    "MDB = 'c:/path/to/my.mdb'\n",
    "DRV = '{Microsoft Access Driver (*.mdb)}'\n",
    "PWD = 'pw'\n",
    "\n",
    "# connect to db\n",
    "con = pyodbc.connect('DRIVER={};DBQ={};PWD={}'.format(DRV,MDB,PWD))\n",
    "cur = con.cursor()\n",
    "\n",
    "# run a query and get the results \n",
    "SQL = 'SELECT * FROM tblData;' # your query goes here\n",
    "rows = cur.execute(SQL).fetchall()\n",
    "cur.close()\n",
    "con.close()\n",
    "\n",
    "# you could change the mode from 'w' to 'a' (append) for any subsequent queries\n",
    "with open('mytable.csv', 'wb') as fou:\n",
    "    csv_writer = csv.writer(fou) # default field-delimiter is \",\"\n",
    "    csv_writer.writerows(rows)"
   ]
  },
  {
   "cell_type": "code",
   "execution_count": 9,
   "metadata": {},
   "outputs": [],
   "source": [
    "data = pd.read_csv(\"tblData.csv\")#lee la base de datos\n",
    "data = data.loc[data.IDDataTypeSub1 == \"CALIBRATED\"] #toma solo los valores calibrados"
   ]
  },
  {
   "cell_type": "code",
   "execution_count": 26,
   "metadata": {},
   "outputs": [],
   "source": [
    "def radiator():\n",
    "    \"\"\"selecciona los datos de la base de datos y retorna el espectro y su intensidad para la ultima medicion\"\"\"\n",
    "\n",
    "    \n",
    "    datos = data.iloc[-1].Data\n",
    "   \n",
    "    datos = re.split('0\\r\\n',datos)\n",
    "    corr = [re.split(\"\\s\", value)[1:-2] for value in datos]\n",
    "    rad = [float(value[0]) for value in corr]\n",
    "    valor = [float(value[1]) for value in corr]\n",
    "\n",
    "    \n",
    "    return (rad, valor)\n",
    " \n"
   ]
  },
  {
   "cell_type": "code",
   "execution_count": 29,
   "metadata": {},
   "outputs": [],
   "source": [
    "espectro, intensidad = radiator()"
   ]
  },
  {
   "cell_type": "code",
   "execution_count": 28,
   "metadata": {},
   "outputs": [],
   "source": [
    "def create_table():\n",
    "    #connecting to the postgressql server (20 mb free)\n",
    "    conn = None\n",
    "    try:\n",
    "        conn = psy.connect(host=\"salt.db.elephantsql.com\", \n",
    "                           user=\"aeaudjwo\", password=\"5uHoUq62gU5BoS2HvJQH0ogSw_94nxCE\")\n",
    "\n",
    "        c = conn.cursor()\n",
    "\n",
    "        c.execute(\"\"\"CREATE TABLE espectro(\n",
    "                    fecha VARCHAR(255) UNIQUE,\n",
    "                    espectro REAL,\n",
    "                    intensidad REAL)\"\"\")\n",
    "        conn.commit()\n",
    "        conn.close()\n",
    "        \n",
    "    except (Exception, psy.DatabaseError) as error:\n",
    "        print(error)\n",
    "        \n",
    "    finally:\n",
    "        if conn is not None:\n",
    "            conn.close()\n",
    "            \n",
    "        \n",
    "create_table()\n"
   ]
  },
  {
   "cell_type": "code",
   "execution_count": 34,
   "metadata": {},
   "outputs": [],
   "source": [
    "def insert_data(espectro,intensidad):\n",
    "    conn = None\n",
    "    try:\n",
    "        conn = psy.connect(host=\"salt.db.elephantsql.com\", \n",
    "                           user=\"aeaudjwo\", password=\"5uHoUq62gU5BoS2HvJQH0ogSw_94nxCE\")\n",
    "\n",
    "        c = conn.cursor()\n",
    "        \n",
    "        c.execute(\"\"\"INSERT INTO espectro (               \n",
    "                    espectro,\n",
    "                    intensidad) VALUES (%s,%s)\"\"\",(espectro,intensidad))\n",
    "        conn.commit()\n",
    "        conn.close()\n",
    "        \n",
    "    except (Exception, psy.DatabaseError) as error:\n",
    "        print (error)\n",
    "    \n",
    "    finally:\n",
    "        if conn is not None:\n",
    "            conn.close()\n"
   ]
  },
  {
   "cell_type": "code",
   "execution_count": 35,
   "metadata": {},
   "outputs": [],
   "source": [
    "#inserta los valores nuevos\n",
    "for spc,inten in zip(espectro, intensidad):\n",
    "    insert_data(spc,inten)"
   ]
  },
  {
   "cell_type": "code",
   "execution_count": null,
   "metadata": {},
   "outputs": [],
   "source": []
  },
  {
   "cell_type": "code",
   "execution_count": null,
   "metadata": {},
   "outputs": [],
   "source": []
  }
 ],
 "metadata": {
  "kernelspec": {
   "display_name": "Python 3",
   "language": "python",
   "name": "python3"
  },
  "language_info": {
   "codemirror_mode": {
    "name": "ipython",
    "version": 3
   },
   "file_extension": ".py",
   "mimetype": "text/x-python",
   "name": "python",
   "nbconvert_exporter": "python",
   "pygments_lexer": "ipython3",
   "version": "3.7.3"
  }
 },
 "nbformat": 4,
 "nbformat_minor": 2
}
