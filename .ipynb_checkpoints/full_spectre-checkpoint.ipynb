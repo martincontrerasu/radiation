{
 "cells": [
  {
   "cell_type": "code",
   "execution_count": 2,
   "metadata": {},
   "outputs": [],
   "source": [
    "import pandas as pd\n",
    "import matplotlib.pyplot as plt\n",
    "import re\n",
    "import psycopg2 as psy\n",
    "import numpy as np\n",
    "from datetime import date\n",
    "import csv, pyodbc\n",
    "import odbc"
   ]
  },
  {
   "cell_type": "code",
   "execution_count": 3,
   "metadata": {},
   "outputs": [
    {
     "name": "stdout",
     "output_type": "stream",
     "text": [
      "Requirement already satisfied: pyodbc in c:\\users\\carmen\\anaconda3\\lib\\site-packages (4.0.26)\n"
     ]
    }
   ],
   "source": []
  },
  {
   "cell_type": "code",
   "execution_count": 5,
   "metadata": {},
   "outputs": [],
   "source": [
    "\n",
    "\n"
   ]
  },
  {
   "cell_type": "code",
   "execution_count": 3,
   "metadata": {},
   "outputs": [],
   "source": [
    "import pyodbc\n",
    "\n",
    "db_file = r'''C:\\Users\\Public\\Documents\\MSDA_XE\\UserData\\Databases\\data.mdb'''\n",
    "user = 'admin'\n",
    "password = 'password'\n",
    "odbc_conn_str = 'DRIVER={Microsoft Access Driver (*.mdb)};DBQ=%s' % (db_file)\n",
    "\n",
    "conn = pyodbc.connect(odbc_conn_str)\n",
    "\n",
    "cursor = conn.cursor()\n",
    "\n",
    "cursor.execute(\"select DateTime, Data from tblData where IDDataTypeSub1 = 'CALIBRATED'\")\n",
    "test = cursor.fetchall()\n",
    "\n"
   ]
  },
  {
   "cell_type": "code",
   "execution_count": 4,
   "metadata": {},
   "outputs": [],
   "source": [
    "data = pd.DataFrame([{\"fecha\":test[-1][0], \"Data\":test[-1][1]}])"
   ]
  },
  {
   "cell_type": "code",
   "execution_count": null,
   "metadata": {},
   "outputs": [],
   "source": []
  },
  {
   "cell_type": "code",
   "execution_count": null,
   "metadata": {},
   "outputs": [],
   "source": []
  },
  {
   "cell_type": "code",
   "execution_count": 9,
   "metadata": {},
   "outputs": [],
   "source": []
  },
  {
   "cell_type": "code",
   "execution_count": 5,
   "metadata": {},
   "outputs": [],
   "source": [
    "def radiator():\n",
    "    \"\"\"selecciona los datos de la base de datos y retorna el espectro y su intensidad para la ultima medicion\"\"\"\n",
    "\n",
    "    \n",
    "    datos = data.iloc[-1].Data\n",
    "   \n",
    "    datos = re.split('0\\r\\n',datos)\n",
    "    corr = [re.split(\"\\s\", value)[1:-2] for value in datos]\n",
    "    rad = [float(value[0]) for value in corr]\n",
    "    valor = [float(value[1]) for value in corr]\n",
    "\n",
    "    \n",
    "    return (rad, valor)\n",
    " \n"
   ]
  },
  {
   "cell_type": "code",
   "execution_count": 6,
   "metadata": {},
   "outputs": [],
   "source": [
    "espectro, intensidad = radiator()"
   ]
  },
  {
   "cell_type": "code",
   "execution_count": null,
   "metadata": {},
   "outputs": [],
   "source": [
    "\n"
   ]
  },
  {
   "cell_type": "code",
   "execution_count": 13,
   "metadata": {},
   "outputs": [],
   "source": [
    "def insert_data(espectro,intensidad):\n",
    "    conn = None\n",
    "    try:\n",
    "        conn = psy.connect(host=\"salt.db.elephantsql.com\", \n",
    "                           user=\"aeaudjwo\", password=\"5uHoUq62gU5BoS2HvJQH0ogSw_94nxCE\")\n",
    "\n",
    "        c = conn.cursor()\n",
    "        \n",
    "        c.execute(\"\"\"UPDATE espectro SET intensidad = (%s) WHERE espectro.espectro = (%s)\"\"\",(intensidad, espectro))\n",
    "        conn.commit()\n",
    "        conn.close()\n",
    "        \n",
    "    except (Exception, psy.DatabaseError) as error:\n",
    "        print (error)\n",
    "    \n",
    "    finally:\n",
    "        if conn is not None:\n",
    "            conn.close()\n"
   ]
  },
  {
   "cell_type": "code",
   "execution_count": 14,
   "metadata": {},
   "outputs": [],
   "source": [
    "#inserta los valores nuevos\n",
    "for spc,inten in zip(espectro, intensidad):\n",
    "    insert_data(spc,inten)"
   ]
  },
  {
   "cell_type": "code",
   "execution_count": 15,
   "metadata": {},
   "outputs": [],
   "source": [
    "def radiator2():\n",
    "    \"\"\"selecciona los datos de la base de datos y retorna dos listas: máxima radiacion y radiación media\"\"\"\n",
    "    listamax = []\n",
    "    listamean = []\n",
    "    \n",
    "    for datos in data.Data:\n",
    "   \n",
    "        datos = re.split('0\\r\\n',datos)\n",
    "        corr = [re.split(\"\\s\", value)[1:-2] for value in datos]\n",
    "        rad = [float(value[0]) for value in corr]\n",
    "        valor = [float(value[1]) for value in corr]\n",
    "        \n",
    "        maxrad = max(valor)\n",
    "        listamax.append(maxrad)\n",
    "        \n",
    "        meanrad = np.mean(valor)\n",
    "        listamean.append(meanrad)\n",
    "\n",
    "    return listamax, listamean\n",
    " \n",
    "radmax, radmean = radiator2()"
   ]
  },
  {
   "cell_type": "code",
   "execution_count": null,
   "metadata": {},
   "outputs": [],
   "source": []
  },
  {
   "cell_type": "code",
   "execution_count": 16,
   "metadata": {},
   "outputs": [],
   "source": [
    "def insert_data2(fecha,maxrad,meanrad):\n",
    "    conn = None\n",
    "    try:\n",
    "        conn = psy.connect(host=\"salt.db.elephantsql.com\", \n",
    "                           user=\"aeaudjwo\", password=\"5uHoUq62gU5BoS2HvJQH0ogSw_94nxCE\")\n",
    "\n",
    "        c = conn.cursor()\n",
    "        \n",
    "        c.execute(\"\"\"INSERT INTO radiation (\n",
    "                    fecha,\n",
    "                    maxrad,\n",
    "                    meanrad) VALUES (%s,%s,%s)\"\"\",(fecha,maxrad,meanrad))\n",
    "        conn.commit()\n",
    "        conn.close()\n",
    "        \n",
    "    except (Exception, psy.DatabaseError) as error:\n",
    "        print (error)\n",
    "    \n",
    "    finally:\n",
    "        if conn is not None:\n",
    "            conn.close()\n"
   ]
  },
  {
   "cell_type": "code",
   "execution_count": 17,
   "metadata": {},
   "outputs": [],
   "source": [
    "fecha = str(data.fecha)\n",
    "fecha = fecha[4:20]"
   ]
  },
  {
   "cell_type": "code",
   "execution_count": 18,
   "metadata": {},
   "outputs": [],
   "source": [
    "insert_data2(fecha,radmax[0],radmean[0])"
   ]
  },
  {
   "cell_type": "code",
   "execution_count": null,
   "metadata": {},
   "outputs": [],
   "source": []
  }
 ],
 "metadata": {
  "kernelspec": {
   "display_name": "Python 3",
   "language": "python",
   "name": "python3"
  },
  "language_info": {
   "codemirror_mode": {
    "name": "ipython",
    "version": 3
   },
   "file_extension": ".py",
   "mimetype": "text/x-python",
   "name": "python",
   "nbconvert_exporter": "python",
   "pygments_lexer": "ipython3",
   "version": "3.7.3"
  }
 },
 "nbformat": 4,
 "nbformat_minor": 2
}
